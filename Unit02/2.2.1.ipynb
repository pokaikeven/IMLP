{
 "cells": [
  {
   "cell_type": "code",
   "execution_count": 1,
   "id": "b994eb2f",
   "metadata": {},
   "outputs": [],
   "source": [
    "from matplotlib.font_manager import findfont, FontProperties"
   ]
  },
  {
   "cell_type": "code",
   "execution_count": 3,
   "id": "c764d8ad",
   "metadata": {},
   "outputs": [],
   "source": [
    "import matplotlib.pyplot as plt"
   ]
  },
  {
   "cell_type": "code",
   "execution_count": 4,
   "id": "8dd9feff",
   "metadata": {},
   "outputs": [],
   "source": [
    "import pandas as pd"
   ]
  },
  {
   "cell_type": "code",
   "execution_count": 5,
   "id": "67c3df98",
   "metadata": {},
   "outputs": [],
   "source": [
    "data = {\n",
    "\"名稱\":[\"客戶A\",\"客戶B\",\"客戶A\",\"客戶B\",\"客戶A\",\"客戶B\",\"客戶A\",\"客戶A\",],\n",
    "\"編號\":[\"訂單1\",\"訂單1\",\"訂單2\",\"訂單3\",\"訂單2\",\"訂單2\",\"訂單1\",\"訂單3\"],\n",
    "\"數量\":[4,4,1,2,3,4,2,1],\n",
    "\"售價\":[495,496,360,451,221,321,466,260]}\n"
   ]
  },
  {
   "cell_type": "code",
   "execution_count": 6,
   "id": "7945cc64",
   "metadata": {},
   "outputs": [
    {
     "data": {
      "text/plain": [
       "{'名稱': ['客戶A', '客戶B', '客戶A', '客戶B', '客戶A', '客戶B', '客戶A', '客戶A'],\n",
       " '編號': ['訂單1', '訂單1', '訂單2', '訂單3', '訂單2', '訂單2', '訂單1', '訂單3'],\n",
       " '數量': [4, 4, 1, 2, 3, 4, 2, 1],\n",
       " '售價': [495, 496, 360, 451, 221, 321, 466, 260]}"
      ]
     },
     "execution_count": 6,
     "metadata": {},
     "output_type": "execute_result"
    }
   ],
   "source": [
    "data"
   ]
  },
  {
   "cell_type": "code",
   "execution_count": 7,
   "id": "61388503",
   "metadata": {},
   "outputs": [
    {
     "data": {
      "text/html": [
       "<div>\n",
       "<style scoped>\n",
       "    .dataframe tbody tr th:only-of-type {\n",
       "        vertical-align: middle;\n",
       "    }\n",
       "\n",
       "    .dataframe tbody tr th {\n",
       "        vertical-align: top;\n",
       "    }\n",
       "\n",
       "    .dataframe thead th {\n",
       "        text-align: right;\n",
       "    }\n",
       "</style>\n",
       "<table border=\"1\" class=\"dataframe\">\n",
       "  <thead>\n",
       "    <tr style=\"text-align: right;\">\n",
       "      <th></th>\n",
       "      <th>名稱</th>\n",
       "      <th>編號</th>\n",
       "      <th>數量</th>\n",
       "      <th>售價</th>\n",
       "    </tr>\n",
       "  </thead>\n",
       "  <tbody>\n",
       "    <tr>\n",
       "      <th>0</th>\n",
       "      <td>客戶A</td>\n",
       "      <td>訂單1</td>\n",
       "      <td>4</td>\n",
       "      <td>495</td>\n",
       "    </tr>\n",
       "    <tr>\n",
       "      <th>1</th>\n",
       "      <td>客戶B</td>\n",
       "      <td>訂單1</td>\n",
       "      <td>4</td>\n",
       "      <td>496</td>\n",
       "    </tr>\n",
       "    <tr>\n",
       "      <th>2</th>\n",
       "      <td>客戶A</td>\n",
       "      <td>訂單2</td>\n",
       "      <td>1</td>\n",
       "      <td>360</td>\n",
       "    </tr>\n",
       "    <tr>\n",
       "      <th>3</th>\n",
       "      <td>客戶B</td>\n",
       "      <td>訂單3</td>\n",
       "      <td>2</td>\n",
       "      <td>451</td>\n",
       "    </tr>\n",
       "    <tr>\n",
       "      <th>4</th>\n",
       "      <td>客戶A</td>\n",
       "      <td>訂單2</td>\n",
       "      <td>3</td>\n",
       "      <td>221</td>\n",
       "    </tr>\n",
       "    <tr>\n",
       "      <th>5</th>\n",
       "      <td>客戶B</td>\n",
       "      <td>訂單2</td>\n",
       "      <td>4</td>\n",
       "      <td>321</td>\n",
       "    </tr>\n",
       "    <tr>\n",
       "      <th>6</th>\n",
       "      <td>客戶A</td>\n",
       "      <td>訂單1</td>\n",
       "      <td>2</td>\n",
       "      <td>466</td>\n",
       "    </tr>\n",
       "    <tr>\n",
       "      <th>7</th>\n",
       "      <td>客戶A</td>\n",
       "      <td>訂單3</td>\n",
       "      <td>1</td>\n",
       "      <td>260</td>\n",
       "    </tr>\n",
       "  </tbody>\n",
       "</table>\n",
       "</div>"
      ],
      "text/plain": [
       "    名稱   編號  數量   售價\n",
       "0  客戶A  訂單1   4  495\n",
       "1  客戶B  訂單1   4  496\n",
       "2  客戶A  訂單2   1  360\n",
       "3  客戶B  訂單3   2  451\n",
       "4  客戶A  訂單2   3  221\n",
       "5  客戶B  訂單2   4  321\n",
       "6  客戶A  訂單1   2  466\n",
       "7  客戶A  訂單3   1  260"
      ]
     },
     "execution_count": 7,
     "metadata": {},
     "output_type": "execute_result"
    }
   ],
   "source": [
    "df = pd.DataFrame(data)\n",
    "df"
   ]
  },
  {
   "cell_type": "code",
   "execution_count": 8,
   "id": "03d5eff1",
   "metadata": {},
   "outputs": [
    {
     "data": {
      "text/html": [
       "<div>\n",
       "<style scoped>\n",
       "    .dataframe tbody tr th:only-of-type {\n",
       "        vertical-align: middle;\n",
       "    }\n",
       "\n",
       "    .dataframe tbody tr th {\n",
       "        vertical-align: top;\n",
       "    }\n",
       "\n",
       "    .dataframe thead th {\n",
       "        text-align: right;\n",
       "    }\n",
       "</style>\n",
       "<table border=\"1\" class=\"dataframe\">\n",
       "  <thead>\n",
       "    <tr style=\"text-align: right;\">\n",
       "      <th></th>\n",
       "      <th>數量</th>\n",
       "      <th>售價</th>\n",
       "    </tr>\n",
       "    <tr>\n",
       "      <th>名稱</th>\n",
       "      <th></th>\n",
       "      <th></th>\n",
       "    </tr>\n",
       "  </thead>\n",
       "  <tbody>\n",
       "    <tr>\n",
       "      <th>客戶A</th>\n",
       "      <td>11</td>\n",
       "      <td>1802</td>\n",
       "    </tr>\n",
       "    <tr>\n",
       "      <th>客戶B</th>\n",
       "      <td>10</td>\n",
       "      <td>1268</td>\n",
       "    </tr>\n",
       "  </tbody>\n",
       "</table>\n",
       "</div>"
      ],
      "text/plain": [
       "     數量    售價\n",
       "名稱           \n",
       "客戶A  11  1802\n",
       "客戶B  10  1268"
      ]
     },
     "execution_count": 8,
     "metadata": {},
     "output_type": "execute_result"
    }
   ],
   "source": [
    "df.groupby(\"名稱\").sum()"
   ]
  },
  {
   "cell_type": "code",
   "execution_count": 9,
   "id": "19ad47b8",
   "metadata": {},
   "outputs": [
    {
     "name": "stdout",
     "output_type": "stream",
     "text": [
      "  channel company  sales\n",
      "A      網路     EFS  11.22\n",
      "B      網路    Momo  23.50\n",
      "C      電視     EHS  12.99\n",
      "D      電視    Viva  15.95\n",
      "E      郵購    Momo  25.75\n",
      "F      郵購     EFS  11.55\n"
     ]
    }
   ],
   "source": [
    "products = {\"channel\":[\"網路\",\"網路\",\"電視\",\"電視\",\"郵購\",\"郵購\"],\n",
    "            \"company\":[\"EFS\",\"Momo\",\"EHS\",\"Viva\",\"Momo\",\"EFS\"],\n",
    "            \"sales\":[11.22,23.50,12.99,15.95,25.75,11.55]}\n",
    "oridnals = ['A','B','C','D','E','F']\n",
    "df2 = pd.DataFrame(products,index = oridnals)\n",
    "print(df2)"
   ]
  },
  {
   "cell_type": "code",
   "execution_count": 10,
   "id": "66acbb89",
   "metadata": {},
   "outputs": [
    {
     "data": {
      "text/html": [
       "<div>\n",
       "<style scoped>\n",
       "    .dataframe tbody tr th:only-of-type {\n",
       "        vertical-align: middle;\n",
       "    }\n",
       "\n",
       "    .dataframe tbody tr th {\n",
       "        vertical-align: top;\n",
       "    }\n",
       "\n",
       "    .dataframe thead th {\n",
       "        text-align: right;\n",
       "    }\n",
       "</style>\n",
       "<table border=\"1\" class=\"dataframe\">\n",
       "  <thead>\n",
       "    <tr style=\"text-align: right;\">\n",
       "      <th></th>\n",
       "      <th>channel</th>\n",
       "      <th>company</th>\n",
       "      <th>sales</th>\n",
       "      <th>score</th>\n",
       "    </tr>\n",
       "  </thead>\n",
       "  <tbody>\n",
       "    <tr>\n",
       "      <th>A</th>\n",
       "      <td>網路</td>\n",
       "      <td>EFS</td>\n",
       "      <td>11.22</td>\n",
       "      <td>4</td>\n",
       "    </tr>\n",
       "    <tr>\n",
       "      <th>B</th>\n",
       "      <td>網路</td>\n",
       "      <td>Momo</td>\n",
       "      <td>23.50</td>\n",
       "      <td>5</td>\n",
       "    </tr>\n",
       "    <tr>\n",
       "      <th>C</th>\n",
       "      <td>電視</td>\n",
       "      <td>EHS</td>\n",
       "      <td>12.99</td>\n",
       "      <td>6</td>\n",
       "    </tr>\n",
       "    <tr>\n",
       "      <th>D</th>\n",
       "      <td>電視</td>\n",
       "      <td>Viva</td>\n",
       "      <td>15.95</td>\n",
       "      <td>7</td>\n",
       "    </tr>\n",
       "    <tr>\n",
       "      <th>E</th>\n",
       "      <td>郵購</td>\n",
       "      <td>Momo</td>\n",
       "      <td>25.75</td>\n",
       "      <td>5</td>\n",
       "    </tr>\n",
       "    <tr>\n",
       "      <th>F</th>\n",
       "      <td>郵購</td>\n",
       "      <td>EFS</td>\n",
       "      <td>11.55</td>\n",
       "      <td>8</td>\n",
       "    </tr>\n",
       "  </tbody>\n",
       "</table>\n",
       "</div>"
      ],
      "text/plain": [
       "  channel company  sales  score\n",
       "A      網路     EFS  11.22      4\n",
       "B      網路    Momo  23.50      5\n",
       "C      電視     EHS  12.99      6\n",
       "D      電視    Viva  15.95      7\n",
       "E      郵購    Momo  25.75      5\n",
       "F      郵購     EFS  11.55      8"
      ]
     },
     "execution_count": 10,
     "metadata": {},
     "output_type": "execute_result"
    }
   ],
   "source": [
    "score = [4,5,6,7,5,8]\n",
    "df2[\"score\"] = score\n",
    "df2"
   ]
  },
  {
   "cell_type": "code",
   "execution_count": 11,
   "id": "bca98e18",
   "metadata": {},
   "outputs": [
    {
     "data": {
      "text/html": [
       "<div>\n",
       "<style scoped>\n",
       "    .dataframe tbody tr th:only-of-type {\n",
       "        vertical-align: middle;\n",
       "    }\n",
       "\n",
       "    .dataframe tbody tr th {\n",
       "        vertical-align: top;\n",
       "    }\n",
       "\n",
       "    .dataframe thead th {\n",
       "        text-align: right;\n",
       "    }\n",
       "</style>\n",
       "<table border=\"1\" class=\"dataframe\">\n",
       "  <thead>\n",
       "    <tr style=\"text-align: right;\">\n",
       "      <th>company</th>\n",
       "      <th>EFS</th>\n",
       "      <th>EHS</th>\n",
       "      <th>Momo</th>\n",
       "      <th>Viva</th>\n",
       "    </tr>\n",
       "    <tr>\n",
       "      <th>channel</th>\n",
       "      <th></th>\n",
       "      <th></th>\n",
       "      <th></th>\n",
       "      <th></th>\n",
       "    </tr>\n",
       "  </thead>\n",
       "  <tbody>\n",
       "    <tr>\n",
       "      <th>網路</th>\n",
       "      <td>11.22</td>\n",
       "      <td>NaN</td>\n",
       "      <td>23.50</td>\n",
       "      <td>NaN</td>\n",
       "    </tr>\n",
       "    <tr>\n",
       "      <th>郵購</th>\n",
       "      <td>11.55</td>\n",
       "      <td>NaN</td>\n",
       "      <td>25.75</td>\n",
       "      <td>NaN</td>\n",
       "    </tr>\n",
       "    <tr>\n",
       "      <th>電視</th>\n",
       "      <td>NaN</td>\n",
       "      <td>12.99</td>\n",
       "      <td>NaN</td>\n",
       "      <td>15.95</td>\n",
       "    </tr>\n",
       "  </tbody>\n",
       "</table>\n",
       "</div>"
      ],
      "text/plain": [
       "company    EFS    EHS   Momo   Viva\n",
       "channel                            \n",
       "網路       11.22    NaN  23.50    NaN\n",
       "郵購       11.55    NaN  25.75    NaN\n",
       "電視         NaN  12.99    NaN  15.95"
      ]
     },
     "execution_count": 11,
     "metadata": {},
     "output_type": "execute_result"
    }
   ],
   "source": [
    "pivot_tb = df2.pivot_table(index=\"channel\",columns=\"company\",values=\"sales\")\n",
    "pivot_tb"
   ]
  },
  {
   "cell_type": "code",
   "execution_count": 12,
   "id": "12c49657",
   "metadata": {},
   "outputs": [
    {
     "data": {
      "text/html": [
       "<div>\n",
       "<style scoped>\n",
       "    .dataframe tbody tr th:only-of-type {\n",
       "        vertical-align: middle;\n",
       "    }\n",
       "\n",
       "    .dataframe tbody tr th {\n",
       "        vertical-align: top;\n",
       "    }\n",
       "\n",
       "    .dataframe thead th {\n",
       "        text-align: right;\n",
       "    }\n",
       "</style>\n",
       "<table border=\"1\" class=\"dataframe\">\n",
       "  <thead>\n",
       "    <tr style=\"text-align: right;\">\n",
       "      <th></th>\n",
       "      <th>sales</th>\n",
       "      <th>score</th>\n",
       "    </tr>\n",
       "  </thead>\n",
       "  <tbody>\n",
       "    <tr>\n",
       "      <th>count</th>\n",
       "      <td>6.000000</td>\n",
       "      <td>6.000000</td>\n",
       "    </tr>\n",
       "    <tr>\n",
       "      <th>mean</th>\n",
       "      <td>16.826667</td>\n",
       "      <td>5.833333</td>\n",
       "    </tr>\n",
       "    <tr>\n",
       "      <th>std</th>\n",
       "      <td>6.307547</td>\n",
       "      <td>1.471960</td>\n",
       "    </tr>\n",
       "    <tr>\n",
       "      <th>min</th>\n",
       "      <td>11.220000</td>\n",
       "      <td>4.000000</td>\n",
       "    </tr>\n",
       "    <tr>\n",
       "      <th>25%</th>\n",
       "      <td>11.910000</td>\n",
       "      <td>5.000000</td>\n",
       "    </tr>\n",
       "    <tr>\n",
       "      <th>50%</th>\n",
       "      <td>14.470000</td>\n",
       "      <td>5.500000</td>\n",
       "    </tr>\n",
       "    <tr>\n",
       "      <th>75%</th>\n",
       "      <td>21.612500</td>\n",
       "      <td>6.750000</td>\n",
       "    </tr>\n",
       "    <tr>\n",
       "      <th>max</th>\n",
       "      <td>25.750000</td>\n",
       "      <td>8.000000</td>\n",
       "    </tr>\n",
       "  </tbody>\n",
       "</table>\n",
       "</div>"
      ],
      "text/plain": [
       "           sales     score\n",
       "count   6.000000  6.000000\n",
       "mean   16.826667  5.833333\n",
       "std     6.307547  1.471960\n",
       "min    11.220000  4.000000\n",
       "25%    11.910000  5.000000\n",
       "50%    14.470000  5.500000\n",
       "75%    21.612500  6.750000\n",
       "max    25.750000  8.000000"
      ]
     },
     "execution_count": 12,
     "metadata": {},
     "output_type": "execute_result"
    }
   ],
   "source": [
    "df2.describe()"
   ]
  },
  {
   "cell_type": "code",
   "execution_count": 13,
   "id": "729e0faf",
   "metadata": {
    "scrolled": true
   },
   "outputs": [
    {
     "data": {
      "text/plain": [
       "<AxesSubplot:>"
      ]
     },
     "execution_count": 13,
     "metadata": {},
     "output_type": "execute_result"
    },
    {
     "data": {
      "image/png": "[encoded data removed]",
      "text/plain": [
       "<Figure size 432x288 with 1 Axes>"
      ]
     },
     "metadata": {
      "needs_background": "light"
     },
     "output_type": "display_data"
    }
   ],
   "source": [
    "df2.plot(kind='bar')\n"
   ]
  },
  {
   "cell_type": "code",
   "execution_count": null,
   "id": "278d3281",
   "metadata": {},
   "outputs": [],
   "source": []
  }
 ],
 "metadata": {
  "kernelspec": {
   "display_name": "Python 3",
   "language": "python",
   "name": "python3"
  },
  "language_info": {
   "codemirror_mode": {
    "name": "ipython",
    "version": 3
   },
   "file_extension": ".py",
   "mimetype": "text/x-python",
   "name": "python",
   "nbconvert_exporter": "python",
   "pygments_lexer": "ipython3",
   "version": "3.8.8"
  }
 },
 "nbformat": 4,
 "nbformat_minor": 5
}
