{
 "cells": [
  {
   "cell_type": "markdown",
   "metadata": {},
   "source": [
    "## Similarity \n",
    "manhattan_distance:  $$d(x,y)=\\sum^n_{i=1}|(x_i - y_i)|$$\n",
    "Euclidean :  $$d(x,y)=\\sqrt{\\sum^n_{i=1}(x_i - y_i)^2}$$\n",
    "Cosine:  $$\\theta(x,y)=\\frac{x \\bullet y}{ \\sqrt{x \\bullet x} \\sqrt{y \\bullet y}}$$\n",
    "\n",
    "使用numpy函數 ->\n",
    "Q: x1y1,x2y2哪個較不相關?\n",
    "\n",
    "x1 = [0,5]\n",
    "y1 = [1,5]\n",
    "\n",
    "x2 = [0,5]\n",
    "y2 = [100,5]\n",
    "\n"
   ]
  },
  {
   "cell_type": "code",
   "execution_count": 2,
   "metadata": {},
   "outputs": [],
   "source": [
    "import numpy as np\n",
    "def manhattan_distance(x,y):\n",
    "    d1=np.sum(np.abs(x-y))\n",
    "def euclidean_distance(x,y):\n",
    "    return np.sqrt(np.sum(x-y) ** 2)\n",
    "def cosine_similarity(x,y):\n",
    "    return np.dot(x,y) / (np.sqrt(np.dot(x,x)) * np.sqrt(np.dot(y,y)))"
   ]
  },
  {
   "cell_type": "code",
   "execution_count": 3,
   "metadata": {},
   "outputs": [
    {
     "name": "stdout",
     "output_type": "stream",
     "text": [
      "x=[0,5],y=[1,5]\n",
      "歐式距離(x1,y1)=  1.0\n",
      "cos距離(x1,y1)=  0.9805806756909201\n",
      "\n",
      "x=[100,5],y=[1,5]\n",
      "歐式距離(x2,y2)=  95.0\n",
      "cos距離(x2,y2)=  1.0\n",
      "\n",
      "cos值越大 角度越小 表示很有相關\n",
      "cos值越小 角度越大 表示越不相關 \n"
     ]
    }
   ],
   "source": [
    "X1 = np.array([0,5])\n",
    "Y1 = np.array([1,5])\n",
    "print('x=[0,5],y=[1,5]')\n",
    "print(\"歐式距離(x1,y1)= \",euclidean_distance(X1,Y1))\n",
    "print(\"cos距離(x1,y1)= \",cosine_similarity(X1,Y1))\n",
    "print('\\nx=[100,5],y=[1,5]')\n",
    "\n",
    "X2 = np.array([0,5])\n",
    "Y2 = np.array([0,100])\n",
    "print(\"歐式距離(x2,y2)= \",euclidean_distance(X2,Y2))\n",
    "print(\"cos距離(x2,y2)= \",cosine_similarity(X2,Y2))\n",
    "print()\n",
    "print(\"cos值越大 角度越小 表示很有相關\")\n",
    "print(\"cos值越小 角度越大 表示越不相關 \")\n"
   ]
  },
  {
   "cell_type": "code",
   "execution_count": 4,
   "metadata": {},
   "outputs": [
    {
     "name": "stdout",
     "output_type": "stream",
     "text": [
      "================================\n",
      "三維\n",
      "A=[99  1  1],B=[0 1 1],C=[100   0   0]\n",
      "歐式距離(A,B)=  99.0\n",
      "歐式距離(A,C)=  1.0\n",
      "cos距離(A,B)=  0.014283528198687934\n",
      "cos距離(A,C)=  0.9998979852075898\n"
     ]
    }
   ],
   "source": [
    "print(\"================================\")\n",
    "print(\"三維\")\n",
    "A = np.array([99,1,1])\n",
    "B = np.array([0,1,1])\n",
    "C = np.array([100,0,0])\n",
    "print('A={0},B={1},C={2}'.format(A,B,C))\n",
    "print(\"歐式距離(A,B)= \",euclidean_distance(A,B))\n",
    "print(\"歐式距離(A,C)= \",euclidean_distance(A,C))\n",
    "print(\"cos距離(A,B)= \",cosine_similarity(A,B))\n",
    "print(\"cos距離(A,C)= \",cosine_similarity(A,C))\n"
   ]
  },
  {
   "cell_type": "code",
   "execution_count": 5,
   "metadata": {},
   "outputs": [
    {
     "name": "stdout",
     "output_type": "stream",
     "text": [
      "================================\n",
      "多維\n",
      "a=[1 0 0 0],b=[1 0 1 1],c=[1 1 1 1],d=[10  0  0  0]\n",
      "歐式距離(a,c)=  3.0\n",
      "歐式距離(b,c)=  1.0\n",
      "歐式距離(c,c)=  0.0\n",
      "歐式距離(a,d)=  9.0\n",
      "cos距離(a,c)=  0.5\n",
      "cos距離(b,c)=  0.8660254037844387\n",
      "cos距離(a,b)=  0.5773502691896258\n",
      "cos距離(a,d)=  1.0\n",
      "ab ac 哪個比較近(cos距離)?\n"
     ]
    }
   ],
   "source": [
    "print(\"================================\")\n",
    "print(\"多維\")\n",
    "a = np.array([1,0,0,0])\n",
    "b = np.array([1,0,1,1])\n",
    "c = np.array([1,1,1,1])\n",
    "d = np.array([10,0,0,0])\n",
    "print('a={0},b={1},c={2},d={3}'.format(a,b,c,d))\n",
    "print(\"歐式距離(a,c)= \",euclidean_distance(a,c))\n",
    "print(\"歐式距離(b,c)= \",euclidean_distance(b,c))\n",
    "print(\"歐式距離(c,c)= \",euclidean_distance(c,c))\n",
    "print(\"歐式距離(a,d)= \",euclidean_distance(a,d))\n",
    "print(\"cos距離(a,c)= \",cosine_similarity(a,c))\n",
    "print(\"cos距離(b,c)= \",cosine_similarity(b,c))\n",
    "print(\"cos距離(a,b)= \",cosine_similarity(a,b))\n",
    "print(\"cos距離(a,d)= \",cosine_similarity(a,d))\n",
    "print(\"ab ac 哪個比較近(cos距離)?\")"
   ]
  },
  {
   "cell_type": "markdown",
   "metadata": {},
   "source": [
    "## 補充Cosine Similarity (sklearn)"
   ]
  },
  {
   "cell_type": "code",
   "execution_count": 8,
   "metadata": {},
   "outputs": [
    {
     "name": "stdout",
     "output_type": "stream",
     "text": [
      "My version: 0.9972413740548081\n",
      "Scikit-Learn: [[0.99724137]]\n"
     ]
    }
   ],
   "source": [
    "from sklearn.metrics.pairwise import cosine_similarity\n",
    "\n",
    "# Vectors\n",
    "vec_a = [1, 2, 3, 4, 5]\n",
    "vec_b = [1, 3, 5, 7, 9]\n",
    "\n",
    "# Dot and norm\n",
    "dot = sum(a*b for a, b in zip(vec_a, vec_b))\n",
    "norm_a = sum(a*a for a in vec_a) ** 0.5\n",
    "norm_b = sum(b*b for b in vec_b) ** 0.5\n",
    "\n",
    "# Cosine similarity\n",
    "cos_sim = dot / (norm_a*norm_b)\n",
    "\n",
    "# Results\n",
    "print('My version:', cos_sim)\n",
    "print('Scikit-Learn:', cosine_similarity([vec_a], [vec_b]))"
   ]
  },
  {
   "cell_type": "code",
   "execution_count": null,
   "metadata": {},
   "outputs": [],
   "source": []
  }
 ],
 "metadata": {
  "kernelspec": {
   "display_name": "Python 3",
   "language": "python",
   "name": "python3"
  },
  "language_info": {
   "codemirror_mode": {
    "name": "ipython",
    "version": 3
   },
   "file_extension": ".py",
   "mimetype": "text/x-python",
   "name": "python",
   "nbconvert_exporter": "python",
   "pygments_lexer": "ipython3",
   "version": "3.8.8"
  }
 },
 "nbformat": 4,
 "nbformat_minor": 4
}
